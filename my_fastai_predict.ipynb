{
 "cells": [
  {
   "cell_type": "code",
   "execution_count": 60,
   "metadata": {},
   "outputs": [
    {
     "name": "stdout",
     "output_type": "stream",
     "text": [
      "['', '/opt/conda/lib/python36.zip', '/opt/conda/lib/python3.6', '/opt/conda/lib/python3.6/lib-dynload', '/opt/conda/lib/python3.6/site-packages', '/opt/conda/lib/python3.6/site-packages/torchvision-0.2.1-py3.6.egg', '/opt/conda/lib/python3.6/site-packages/IPython/extensions', '/home/yukimiki/.ipython', '/tmp/fastai/old', '/tmp/fastai/old', '/tmp/fastai/old']\n"
     ]
    }
   ],
   "source": [
    "import sys\n",
    "print(sys.path)\n",
    "import seaborn as sns\n",
    "sns.set()\n",
    "sys.path.append(\"/tmp/fastai/old\")"
   ]
  },
  {
   "cell_type": "code",
   "execution_count": 61,
   "metadata": {},
   "outputs": [],
   "source": [
    "from fastai.conv_learner import *\n",
    "from fastai.dataset import *"
   ]
  },
  {
   "cell_type": "code",
   "execution_count": 62,
   "metadata": {},
   "outputs": [],
   "source": [
    "from datetime import datetime\n",
    "import pandas as pd\n",
    "import numpy as np\n",
    "np.random.seed(seed=32)\n",
    "import os\n",
    "from sklearn.model_selection import train_test_split\n",
    "from sklearn.metrics import f1_score\n",
    "import scipy.optimize as opt\n",
    "import warnings\n",
    "warnings.filterwarnings('ignore')\n",
    "\n",
    "import tensorflow as tf\n",
    "#from torchvision.transforms import RandomHorizontalFlip, RandomVerticalFlip\n",
    "from tensorboard_cb import TensorboardLogger\n",
    "import torch\n",
    "torch.manual_seed(7)\n",
    "torch.cuda.manual_seed_all(7)\n",
    "import utils_pytorch"
   ]
  },
  {
   "cell_type": "code",
   "execution_count": 63,
   "metadata": {},
   "outputs": [],
   "source": [
    "nw = 20   #number of workers for data loader\n",
    "arch = resnet34 #specify target architecture"
   ]
  },
  {
   "cell_type": "code",
   "execution_count": 64,
   "metadata": {},
   "outputs": [],
   "source": [
    "train_names = list({f[:36] for f in os.listdir(utils_pytorch.TRAIN)})\n",
    "test_names = list({f[:36] for f in os.listdir(utils_pytorch.TEST)})\n",
    "# tr_n, val_n = train_test_split(train_names, test_size=0.1, random_state=42)\n",
    "\n",
    "data_info = pd.read_csv(utils_pytorch.LABELS)\n",
    "tr_n, val_n = train_test_split(data_info, test_size = 0.1, \n",
    "                 stratify = data_info['Target'].map(lambda x: x[:3] if '27' not in x else '0'), random_state=42)\n",
    "tr_n = tr_n['Id'].tolist()\n",
    "val_n = val_n['Id'].tolist()"
   ]
  },
  {
   "cell_type": "code",
   "execution_count": 65,
   "metadata": {},
   "outputs": [],
   "source": [
    "def get_data(sz,bs,stats=None):\n",
    "    #data augmentation\n",
    "    aug_tfms = [RandomRotate(45, tfm_y=TfmType.NO),\n",
    "                RandomFlip(),\n",
    "                RandomDihedral(tfm_y=TfmType.NO),\n",
    "                RandomLighting(0.05, 0.05, tfm_y=TfmType.NO)]\n",
    "    #mean and std in of each channel in the train set\n",
    "    #stats = A([0.08069, 0.05258, 0.05487, 0.08282], [0.13704, 0.10145, 0.15313, 0.13814])\n",
    "    if stats is None:\n",
    "        stats = A([0.0804419, 0.05262986, 0.05474701, 0.08270896], [0.13000701, 0.08796628, 0.1386317, 0.12718021]) # calulate myself\n",
    "    else:\n",
    "        stats = A(stats)\n",
    "    tfms = tfms_from_stats(stats, sz, crop_type=CropType.NO, tfm_y=TfmType.NO, \n",
    "                aug_tfms=aug_tfms)\n",
    "    ds = ImageData.get_ds(utils_pytorch.pdFilesDataset, (tr_n[:-(len(tr_n)%bs)],utils_pytorch.TRAIN), \n",
    "                (val_n,utils_pytorch.TRAIN), tfms, test=(test_names,utils_pytorch.TEST))\n",
    "    md = ImageData(utils_pytorch.PATH, ds, bs, num_workers=nw, classes=None)\n",
    "    return md"
   ]
  },
  {
   "cell_type": "code",
   "execution_count": 66,
   "metadata": {},
   "outputs": [],
   "source": [
    "sz = 256 #image size\n",
    "bs = 64  #batch size\n",
    "\n",
    "arch = resnet34 #specify target architecture\n",
    "# dir_name = datetime.strftime(datetime.now(), '%Y%m%d%H%M%S')\n",
    "# print(dir_name)\n",
    "# dir_path = os.path.join('test', dir_name)\n",
    "#best_model_path = '20181201025910_size512_best_resnet'\n",
    "\n",
    "\n",
    "md = get_data(sz,bs)\n",
    "learner = utils_pytorch.ConvLearner.pretrained(arch, md, ps=0.5) #dropout 50%\n",
    "pretrained_model_name = '20181206004817_size256_B64_lr0.01_resnet34_best_resnet'\n",
    "learner.load(pretrained_model_name)\n",
    "#learner.load(best_model_path)\n",
    "learner.set_data(md)\n",
    "\n",
    "# learner.opt_fn = optim.Adam\n",
    "# learner.clip = 1.0 #gradient clipping\n",
    "# learner.crit = utils_pytorch.FocalLoss()\n",
    "# learner.metrics = [utils_pytorch.acc, utils_pytorch.f1_torch]\n",
    "# tb_logger = TensorboardLogger(learner.model, md, dir_path, metrics_names=['acc', 'f1'])\n",
    "#save_best_model = SaveBestModel(model=learner.model)"
   ]
  },
  {
   "cell_type": "code",
   "execution_count": 67,
   "metadata": {},
   "outputs": [
    {
     "name": "stdout",
     "output_type": "stream",
     "text": []
    }
   ],
   "source": [
    "def sigmoid_np(x):\n",
    "    return 1.0/(1.0 + np.exp(-x))\n",
    "\n",
    "preds,y = learner.TTA(n_aug=16)\n",
    "preds = np.stack(preds, axis=-1)\n",
    "preds = sigmoid_np(preds)\n",
    "pred = preds.max(axis=-1)"
   ]
  },
  {
   "cell_type": "code",
   "execution_count": 68,
   "metadata": {},
   "outputs": [],
   "source": [
    "def F1_soft(preds,targs,th=0.5,d=50.0):\n",
    "    preds = sigmoid_np(d*(preds - th))\n",
    "    targs = targs.astype(np.float)\n",
    "    score = 2.0*(preds*targs).sum(axis=0)/((preds+targs).sum(axis=0) + 1e-6)\n",
    "    return score\n",
    "\n",
    "def fit_val(x,y):\n",
    "    params = 0.5*np.ones(len(utils_pytorch.name_label_dict))\n",
    "    wd = 1e-5\n",
    "    error = lambda p: np.concatenate((F1_soft(x,y,p) - 1.0,\n",
    "                                      wd*(p - 0.5)), axis=None)\n",
    "    p, success = opt.leastsq(error, params)\n",
    "    return p"
   ]
  },
  {
   "cell_type": "code",
   "execution_count": 69,
   "metadata": {},
   "outputs": [
    {
     "name": "stdout",
     "output_type": "stream",
     "text": [
      "Thresholds:  [0.53734 0.63686 0.62736 0.57562 0.62739 0.57219 0.58239 0.6307  0.56685 0.70104 0.70727 0.64738 0.55646\n",
      " 0.52518 0.5653  0.55973 0.49559 0.46114 0.48565 0.54266 0.57667 0.53584 0.58586 0.61077 0.75063 0.51474\n",
      " 0.60322 0.29303]\n",
      "F1 macro:  0.6999953975805191\n",
      "F1 macro (th = 0.5):  0.6408342696559723\n",
      "F1 micro:  0.7649950835791542\n"
     ]
    }
   ],
   "source": [
    "th = fit_val(pred,y)\n",
    "th[th<0.1] = 0.1\n",
    "print('Thresholds: ',th)\n",
    "print('F1 macro: ',f1_score(y, pred>th, average='macro'))\n",
    "print('F1 macro (th = 0.5): ',f1_score(y, pred>0.5, average='macro'))\n",
    "print('F1 micro: ',f1_score(y, pred>th, average='micro'))"
   ]
  },
  {
   "cell_type": "code",
   "execution_count": 70,
   "metadata": {},
   "outputs": [
    {
     "name": "stdout",
     "output_type": "stream",
     "text": [
      "Fractions:  [0.46654 0.03507 0.10425 0.04408 0.04987 0.06853 0.02381 0.07561 0.00129 0.00129 0.00097 0.03282 0.02027\n",
      " 0.01609 0.03378 0.00032 0.01094 0.00611 0.03121 0.0473  0.00225 0.12677 0.01802 0.08848 0.0074  0.32014\n",
      " 0.00837 0.00129]\n",
      "Fractions (true):  [0.42535 0.03861 0.11776 0.04923 0.05856 0.07497 0.03185 0.08784 0.00129 0.00161 0.00097 0.03539 0.0222\n",
      " 0.01544 0.03636 0.00064 0.01673 0.00804 0.03024 0.04698 0.00547 0.12323 0.02574 0.09299 0.0103  0.26062\n",
      " 0.01062 0.00032]\n"
     ]
    }
   ],
   "source": [
    "print('Fractions: ',(pred > th).mean(axis=0))\n",
    "print('Fractions (true): ',(y > th).mean(axis=0))"
   ]
  },
  {
   "cell_type": "code",
   "execution_count": 71,
   "metadata": {},
   "outputs": [],
   "source": [
    "# stats = np.array([[0.05908022, 0.04532852, 0.04065233, 0.05923426], [0.10371015, 0.07984633, 0.10664798, 0.09878183]])\n",
    "# md = get_data(sz,bs, stats)\n",
    "# learner.set_data(md)"
   ]
  },
  {
   "cell_type": "code",
   "execution_count": 72,
   "metadata": {},
   "outputs": [
    {
     "name": "stdout",
     "output_type": "stream",
     "text": []
    }
   ],
   "source": [
    "preds_t,y_t = learner.TTA(n_aug=16,is_test=True)\n",
    "preds_t = np.stack(preds_t, axis=-1)\n",
    "preds_t = sigmoid_np(preds_t)\n",
    "pred_t = preds_t.max(axis=-1) #max works better for F1 macro score"
   ]
  },
  {
   "cell_type": "code",
   "execution_count": 73,
   "metadata": {},
   "outputs": [],
   "source": [
    "def save_pred(pred, th=0.5, fname='protein_classification.csv', use_leak=False):\n",
    "    if use_leak:\n",
    "        print('use leak')\n",
    "    pred_list = []\n",
    "    for line in pred:\n",
    "        s = ' '.join(list([str(i) for i in np.nonzero(line>th)[0]]))\n",
    "        pred_list.append(s)\n",
    "        \n",
    "    sample_df = pd.read_csv(utils_pytorch.SAMPLE)\n",
    "    sample_list = list(sample_df.Id)\n",
    "    leak_df = pd.read_csv('./data/test_matches.csv')\n",
    "#     pred_dic = dict((key, value) for (key, value) \n",
    "#                 in zip(learner.data.test_ds.fnames,pred_list))\n",
    "    pred_dic = {}\n",
    "    for key, value in zip(learner.data.test_ds.fnames,pred_list):\n",
    "        pred_dic[key] = value\n",
    "        check_leak_df = leak_df.query('Test.str.contains(@key)' ,engine='python')\n",
    "        if use_leak and len(check_leak_df) > 0:\n",
    "            #print(f'found leak data ! key:{key}, target:{check_leak_df.iloc[0,5]}')\n",
    "            pred_dic[key] = check_leak_df.iloc[0,5]\n",
    "    pred_list_cor = [pred_dic[id] for id in sample_list]\n",
    "    df = pd.DataFrame({'Id':sample_list,'Predicted':pred_list_cor})\n",
    "    df.to_csv(fname, header=True, index=False)"
   ]
  },
  {
   "cell_type": "code",
   "execution_count": 74,
   "metadata": {},
   "outputs": [
    {
     "name": "stdout",
     "output_type": "stream",
     "text": [
      "Fractions:  [0.44061 0.05691 0.11246 0.10007 0.10212 0.15955 0.08084 0.11596 0.00273 0.00214 0.00171 0.06597 0.05811\n",
      " 0.02478 0.04991 0.00026 0.04247 0.02205 0.04546 0.09212 0.00957 0.18698 0.04751 0.13587 0.01786 0.34669\n",
      " 0.05204 0.03435]\n",
      "use leak\n",
      "found leak data ! key:d48b2036-bacc-11e8-b2b8-ac1f6b6435d0, target:14\n",
      "found leak data ! key:107d6830-bac6-11e8-b2b7-ac1f6b6435d0, target:19 0\n",
      "found leak data ! key:7929949a-bad4-11e8-b2b8-ac1f6b6435d0, target:25 17\n",
      "found leak data ! key:1bcde1d2-bac7-11e8-b2b7-ac1f6b6435d0, target:27\n",
      "found leak data ! key:e3279d4c-bad4-11e8-b2b8-ac1f6b6435d0, target:13\n",
      "found leak data ! key:8f257b9c-bacf-11e8-b2b8-ac1f6b6435d0, target:21\n",
      "found leak data ! key:d79a1e12-bad1-11e8-b2b8-ac1f6b6435d0, target:16\n",
      "found leak data ! key:af2c5f2e-bac9-11e8-b2b8-ac1f6b6435d0, target:25 14\n",
      "found leak data ! key:04eef62c-bad6-11e8-b2b9-ac1f6b6435d0, target:12 25 0\n",
      "found leak data ! key:1a15e75a-bad5-11e8-b2b8-ac1f6b6435d0, target:16 14 17 0\n",
      "found leak data ! key:869a7f8c-bac9-11e8-b2b8-ac1f6b6435d0, target:5 0\n",
      "found leak data ! key:12dea42a-bacd-11e8-b2b8-ac1f6b6435d0, target:16 18 17 0\n",
      "found leak data ! key:754372de-bad8-11e8-b2b9-ac1f6b6435d0, target:22 0 21\n",
      "found leak data ! key:9f71c832-bacc-11e8-b2b8-ac1f6b6435d0, target:14\n",
      "found leak data ! key:b52035ba-bad1-11e8-b2b8-ac1f6b6435d0, target:3\n",
      "found leak data ! key:e1d58c82-bac6-11e8-b2b7-ac1f6b6435d0, target:16 0\n",
      "found leak data ! key:89975d50-bad7-11e8-b2b9-ac1f6b6435d0, target:25 15\n",
      "found leak data ! key:5661665e-bacf-11e8-b2b8-ac1f6b6435d0, target:25 17 0\n",
      "found leak data ! key:1d343e64-bad5-11e8-b2b8-ac1f6b6435d0, target:23 21\n",
      "found leak data ! key:e7f56384-bad1-11e8-b2b8-ac1f6b6435d0, target:5 1\n",
      "found leak data ! key:076d1eb6-bad0-11e8-b2b8-ac1f6b6435d0, target:25 0 21\n",
      "found leak data ! key:ade4e8ca-bad3-11e8-b2b8-ac1f6b6435d0, target:23 5\n",
      "found leak data ! key:9513c7b8-bad2-11e8-b2b8-ac1f6b6435d0, target:25 13\n",
      "found leak data ! key:c5f866e4-bad3-11e8-b2b8-ac1f6b6435d0, target:25 0 21\n",
      "found leak data ! key:88b38a80-bac8-11e8-b2b8-ac1f6b6435d0, target:16 2\n",
      "found leak data ! key:df533cce-bac7-11e8-b2b7-ac1f6b6435d0, target:18 17\n",
      "found leak data ! key:a9211684-bad7-11e8-b2b9-ac1f6b6435d0, target:0\n",
      "found leak data ! key:930451c4-bacb-11e8-b2b8-ac1f6b6435d0, target:13 21\n",
      "found leak data ! key:83509894-bad2-11e8-b2b8-ac1f6b6435d0, target:13\n",
      "found leak data ! key:64ce23b0-bad1-11e8-b2b8-ac1f6b6435d0, target:25\n",
      "found leak data ! key:530bfbea-baca-11e8-b2b8-ac1f6b6435d0, target:14 23 17\n",
      "found leak data ! key:e7a05526-bad4-11e8-b2b8-ac1f6b6435d0, target:9 10\n",
      "found leak data ! key:a56d3f98-bacf-11e8-b2b8-ac1f6b6435d0, target:9 10\n",
      "found leak data ! key:c02bb81c-bac7-11e8-b2b7-ac1f6b6435d0, target:16 18 17 0\n",
      "found leak data ! key:67e27d1e-bad9-11e8-b2b9-ac1f6b6435d0, target:7\n",
      "found leak data ! key:dbdcd95c-bac6-11e8-b2b7-ac1f6b6435d0, target:5\n",
      "found leak data ! key:b478cc78-bad4-11e8-b2b8-ac1f6b6435d0, target:16 0\n",
      "found leak data ! key:1f97ea4a-bad3-11e8-b2b8-ac1f6b6435d0, target:0\n",
      "found leak data ! key:adc182fa-bad2-11e8-b2b8-ac1f6b6435d0, target:23 0 21\n",
      "found leak data ! key:e0f9483a-bacb-11e8-b2b8-ac1f6b6435d0, target:7 0\n",
      "found leak data ! key:588b7904-bacc-11e8-b2b8-ac1f6b6435d0, target:22 7\n",
      "found leak data ! key:a8d73536-bad8-11e8-b2b9-ac1f6b6435d0, target:23 0\n",
      "found leak data ! key:b9a882d6-bacc-11e8-b2b8-ac1f6b6435d0, target:16 14\n",
      "found leak data ! key:c5deab72-bad9-11e8-b2b9-ac1f6b6435d0, target:25 0 21\n",
      "found leak data ! key:858112e4-bad5-11e8-b2b9-ac1f6b6435d0, target:12 25\n",
      "found leak data ! key:1f8193c0-baca-11e8-b2b8-ac1f6b6435d0, target:22 2\n",
      "found leak data ! key:d48d9bee-bad2-11e8-b2b8-ac1f6b6435d0, target:25\n",
      "found leak data ! key:aec4415e-bad9-11e8-b2b9-ac1f6b6435d0, target:2\n",
      "found leak data ! key:9a1c1804-bad3-11e8-b2b8-ac1f6b6435d0, target:25 21\n",
      "found leak data ! key:be0cf5a8-bad3-11e8-b2b8-ac1f6b6435d0, target:23\n",
      "found leak data ! key:fc6271b2-bad7-11e8-b2b9-ac1f6b6435d0, target:12\n",
      "found leak data ! key:9f359f8e-bada-11e8-b2b9-ac1f6b6435d0, target:25\n",
      "found leak data ! key:db77c3dc-bacb-11e8-b2b8-ac1f6b6435d0, target:19 17\n",
      "found leak data ! key:c5adbccc-bac7-11e8-b2b7-ac1f6b6435d0, target:2 21\n",
      "found leak data ! key:d6a07ae2-bad1-11e8-b2b8-ac1f6b6435d0, target:5\n",
      "found leak data ! key:7fcba676-bad9-11e8-b2b9-ac1f6b6435d0, target:25 15\n",
      "found leak data ! key:f3fcd464-bad6-11e8-b2b9-ac1f6b6435d0, target:7 4\n",
      "found leak data ! key:7d26e95c-bac6-11e8-b2b7-ac1f6b6435d0, target:13\n",
      "found leak data ! key:e75331f2-bad8-11e8-b2b9-ac1f6b6435d0, target:16 14\n",
      "found leak data ! key:1ebc1ad0-bac7-11e8-b2b7-ac1f6b6435d0, target:13\n",
      "found leak data ! key:18d295a6-bad9-11e8-b2b9-ac1f6b6435d0, target:23\n",
      "found leak data ! key:2fcec2b0-bac6-11e8-b2b7-ac1f6b6435d0, target:25 18\n",
      "found leak data ! key:29116e84-bace-11e8-b2b8-ac1f6b6435d0, target:1\n",
      "found leak data ! key:95863be8-baca-11e8-b2b8-ac1f6b6435d0, target:25 1\n",
      "found leak data ! key:74993d6e-bad8-11e8-b2b9-ac1f6b6435d0, target:16\n",
      "found leak data ! key:7c0a25b4-bac8-11e8-b2b8-ac1f6b6435d0, target:7\n",
      "found leak data ! key:0a96bf2c-bad3-11e8-b2b8-ac1f6b6435d0, target:23 4\n",
      "found leak data ! key:8617f44e-baca-11e8-b2b8-ac1f6b6435d0, target:0\n",
      "found leak data ! key:b5f922a4-bac6-11e8-b2b7-ac1f6b6435d0, target:25 6 2\n",
      "found leak data ! key:5cdf6ad6-bad8-11e8-b2b9-ac1f6b6435d0, target:5 0\n",
      "found leak data ! key:86c164e6-bac7-11e8-b2b7-ac1f6b6435d0, target:23 27\n",
      "found leak data ! key:63ed01a4-bad7-11e8-b2b9-ac1f6b6435d0, target:16 14\n",
      "found leak data ! key:d7478dae-bacd-11e8-b2b8-ac1f6b6435d0, target:25 1\n",
      "found leak data ! key:b54e8446-bacd-11e8-b2b8-ac1f6b6435d0, target:25 13\n",
      "found leak data ! key:628d6c5c-bad9-11e8-b2b9-ac1f6b6435d0, target:25 6\n",
      "found leak data ! key:ceefdbbc-bacc-11e8-b2b8-ac1f6b6435d0, target:13 4\n",
      "found leak data ! key:0f0ccc64-bad7-11e8-b2b9-ac1f6b6435d0, target:16 25 0\n",
      "found leak data ! key:db355036-bacd-11e8-b2b8-ac1f6b6435d0, target:7 21\n",
      "found leak data ! key:bf4175b4-bac6-11e8-b2b7-ac1f6b6435d0, target:4 21\n",
      "found leak data ! key:0f3274c0-bada-11e8-b2b9-ac1f6b6435d0, target:12 13\n",
      "found leak data ! key:4883f35c-bac6-11e8-b2b7-ac1f6b6435d0, target:4\n",
      "found leak data ! key:6a322caa-bad3-11e8-b2b8-ac1f6b6435d0, target:5\n",
      "found leak data ! key:1189c246-bada-11e8-b2b9-ac1f6b6435d0, target:12\n",
      "found leak data ! key:f8f6566a-bac8-11e8-b2b8-ac1f6b6435d0, target:16 1 0\n",
      "found leak data ! key:3de763f8-bad9-11e8-b2b9-ac1f6b6435d0, target:25 0\n",
      "found leak data ! key:59604078-bad9-11e8-b2b9-ac1f6b6435d0, target:16\n",
      "found leak data ! key:c1dc11c4-bacd-11e8-b2b8-ac1f6b6435d0, target:0\n",
      "found leak data ! key:70f3e586-bacb-11e8-b2b8-ac1f6b6435d0, target:0 21\n",
      "found leak data ! key:74bdbb12-bace-11e8-b2b8-ac1f6b6435d0, target:25 7\n",
      "found leak data ! key:5ff55b5e-bad3-11e8-b2b8-ac1f6b6435d0, target:23\n",
      "found leak data ! key:443b81cc-bac9-11e8-b2b8-ac1f6b6435d0, target:25 15\n",
      "found leak data ! key:90629298-bac9-11e8-b2b8-ac1f6b6435d0, target:25 11\n",
      "found leak data ! key:b029f372-bad9-11e8-b2b9-ac1f6b6435d0, target:23 2\n",
      "found leak data ! key:9edb2498-bad8-11e8-b2b9-ac1f6b6435d0, target:16\n",
      "found leak data ! key:5135b312-bad2-11e8-b2b8-ac1f6b6435d0, target:25 7\n",
      "found leak data ! key:7b6021fc-baca-11e8-b2b8-ac1f6b6435d0, target:1 4\n",
      "found leak data ! key:0457b426-baca-11e8-b2b8-ac1f6b6435d0, target:2\n",
      "found leak data ! key:4e9ba202-bad6-11e8-b2b9-ac1f6b6435d0, target:7 5 0\n",
      "found leak data ! key:f6b06252-bad6-11e8-b2b9-ac1f6b6435d0, target:16 25 0\n",
      "found leak data ! key:9db19f9c-bac5-11e8-b2b7-ac1f6b6435d0, target:2\n",
      "found leak data ! key:d0bb0bfe-bac9-11e8-b2b8-ac1f6b6435d0, target:0\n",
      "found leak data ! key:10748996-baca-11e8-b2b8-ac1f6b6435d0, target:25 15\n",
      "found leak data ! key:f8cd7738-bad0-11e8-b2b8-ac1f6b6435d0, target:25\n",
      "found leak data ! key:801e6584-bad2-11e8-b2b8-ac1f6b6435d0, target:22 3\n",
      "found leak data ! key:0c0fe9fe-bacf-11e8-b2b8-ac1f6b6435d0, target:23\n",
      "found leak data ! key:24235d90-bac6-11e8-b2b7-ac1f6b6435d0, target:2\n",
      "found leak data ! key:f5c2e1da-bad1-11e8-b2b8-ac1f6b6435d0, target:25 6 14 2\n",
      "found leak data ! key:cbfe766e-bace-11e8-b2b8-ac1f6b6435d0, target:14 0\n",
      "found leak data ! key:111f3934-bad6-11e8-b2b9-ac1f6b6435d0, target:25\n",
      "found leak data ! key:25e1c970-bac9-11e8-b2b8-ac1f6b6435d0, target:12 25 0\n",
      "found leak data ! key:10e592a2-bac6-11e8-b2b7-ac1f6b6435d0, target:19 16 25 21\n",
      "found leak data ! key:39508fe6-bad3-11e8-b2b8-ac1f6b6435d0, target:16 0\n",
      "found leak data ! key:fce301c8-bac9-11e8-b2b8-ac1f6b6435d0, target:25 6 5\n",
      "found leak data ! key:2367dd2c-bac6-11e8-b2b7-ac1f6b6435d0, target:16 11 21\n",
      "found leak data ! key:7b6f776e-bad5-11e8-b2b9-ac1f6b6435d0, target:24 5\n",
      "found leak data ! key:63d95450-bad3-11e8-b2b8-ac1f6b6435d0, target:13 21\n",
      "found leak data ! key:43b122d6-bad6-11e8-b2b9-ac1f6b6435d0, target:12 25 0\n",
      "found leak data ! key:b37d19de-bac8-11e8-b2b8-ac1f6b6435d0, target:7\n",
      "found leak data ! key:112a7cf4-badb-11e8-b2b9-ac1f6b6435d0, target:25\n",
      "found leak data ! key:8f8c19a6-bacf-11e8-b2b8-ac1f6b6435d0, target:0\n",
      "found leak data ! key:72a6fbf8-bad4-11e8-b2b8-ac1f6b6435d0, target:16 25 14\n",
      "found leak data ! key:2e2f56fa-bacf-11e8-b2b8-ac1f6b6435d0, target:19 0\n",
      "found leak data ! key:89b31fae-bad2-11e8-b2b8-ac1f6b6435d0, target:16 0\n",
      "found leak data ! key:86926bc4-bad0-11e8-b2b8-ac1f6b6435d0, target:2\n",
      "found leak data ! key:78379daa-bac7-11e8-b2b7-ac1f6b6435d0, target:0\n",
      "found leak data ! key:b61292c4-bac7-11e8-b2b7-ac1f6b6435d0, target:22 25 0\n",
      "found leak data ! key:9d2d08b2-bada-11e8-b2b9-ac1f6b6435d0, target:12 2\n",
      "found leak data ! key:84c046b4-bad4-11e8-b2b8-ac1f6b6435d0, target:16 14\n",
      "found leak data ! key:3158d740-bad7-11e8-b2b9-ac1f6b6435d0, target:14 0\n",
      "found leak data ! key:be034880-bad0-11e8-b2b8-ac1f6b6435d0, target:19 16 14\n",
      "found leak data ! key:5785ff2c-baca-11e8-b2b8-ac1f6b6435d0, target:22 0 21\n",
      "found leak data ! key:8926c25a-baca-11e8-b2b8-ac1f6b6435d0, target:19\n",
      "found leak data ! key:1d1e079c-badb-11e8-b2b9-ac1f6b6435d0, target:2\n",
      "found leak data ! key:f60586ac-bac7-11e8-b2b7-ac1f6b6435d0, target:7 17\n",
      "found leak data ! key:d738dcea-bad8-11e8-b2b9-ac1f6b6435d0, target:25 1\n",
      "found leak data ! key:3a53ecca-bad4-11e8-b2b8-ac1f6b6435d0, target:22 0\n",
      "found leak data ! key:b15e17be-bac5-11e8-b2b7-ac1f6b6435d0, target:27\n",
      "found leak data ! key:e2c8f934-bad1-11e8-b2b8-ac1f6b6435d0, target:25 14\n",
      "found leak data ! key:bfdfc644-bac9-11e8-b2b8-ac1f6b6435d0, target:19\n",
      "found leak data ! key:f29aefca-bac7-11e8-b2b7-ac1f6b6435d0, target:1\n",
      "found leak data ! key:9da67d5c-bac9-11e8-b2b8-ac1f6b6435d0, target:14 0\n",
      "found leak data ! key:03f31e24-badb-11e8-b2b9-ac1f6b6435d0, target:16 25\n",
      "found leak data ! key:8dd19ca8-bacf-11e8-b2b8-ac1f6b6435d0, target:0\n",
      "found leak data ! key:c3c67272-bad7-11e8-b2b9-ac1f6b6435d0, target:0\n",
      "found leak data ! key:79970da6-bac8-11e8-b2b8-ac1f6b6435d0, target:2\n",
      "found leak data ! key:9e6fe8be-bad2-11e8-b2b8-ac1f6b6435d0, target:4\n",
      "found leak data ! key:8316d286-bad6-11e8-b2b9-ac1f6b6435d0, target:25 6 21\n",
      "found leak data ! key:5cf25ab2-bacc-11e8-b2b8-ac1f6b6435d0, target:7 0\n",
      "found leak data ! key:b5ecaa48-baca-11e8-b2b8-ac1f6b6435d0, target:7 1 0\n",
      "found leak data ! key:2ea48066-bad3-11e8-b2b8-ac1f6b6435d0, target:12 25 13\n",
      "found leak data ! key:cc7eacac-bacf-11e8-b2b8-ac1f6b6435d0, target:22 0\n",
      "found leak data ! key:acffd8c0-bad3-11e8-b2b8-ac1f6b6435d0, target:1\n",
      "found leak data ! key:94ca8c2c-bad9-11e8-b2b9-ac1f6b6435d0, target:25 14\n",
      "found leak data ! key:11107ebc-bac7-11e8-b2b7-ac1f6b6435d0, target:25 14\n",
      "found leak data ! key:4509520a-bad3-11e8-b2b8-ac1f6b6435d0, target:1 2\n",
      "found leak data ! key:a7e9e53a-bad1-11e8-b2b8-ac1f6b6435d0, target:16 25\n",
      "found leak data ! key:76ab092c-bac7-11e8-b2b7-ac1f6b6435d0, target:6\n",
      "found leak data ! key:1d3ea824-bace-11e8-b2b8-ac1f6b6435d0, target:0\n",
      "found leak data ! key:d57ef6f6-bad2-11e8-b2b8-ac1f6b6435d0, target:7\n",
      "found leak data ! key:0b651912-bad3-11e8-b2b8-ac1f6b6435d0, target:25\n",
      "found leak data ! key:f3f555c4-baca-11e8-b2b8-ac1f6b6435d0, target:25 6 7\n",
      "found leak data ! key:77161884-bad6-11e8-b2b9-ac1f6b6435d0, target:7\n",
      "found leak data ! key:a4b77124-bad7-11e8-b2b9-ac1f6b6435d0, target:23\n",
      "found leak data ! key:adfa9e8e-bac6-11e8-b2b7-ac1f6b6435d0, target:25 5 0\n",
      "found leak data ! key:0ee3dcd2-bad2-11e8-b2b8-ac1f6b6435d0, target:14\n",
      "found leak data ! key:9bd51af2-bad2-11e8-b2b8-ac1f6b6435d0, target:22 7 0\n",
      "found leak data ! key:260a351a-bac7-11e8-b2b7-ac1f6b6435d0, target:25 14 17\n",
      "found leak data ! key:72c9bb82-bac7-11e8-b2b7-ac1f6b6435d0, target:17 4 21\n",
      "found leak data ! key:718ebf3e-bada-11e8-b2b9-ac1f6b6435d0, target:16 14 23 17\n",
      "found leak data ! key:2b884a5c-bace-11e8-b2b8-ac1f6b6435d0, target:12 22 21\n",
      "found leak data ! key:28601ba0-bac6-11e8-b2b7-ac1f6b6435d0, target:14\n",
      "found leak data ! key:e3a52ae0-bada-11e8-b2b9-ac1f6b6435d0, target:2\n",
      "found leak data ! key:a7c81e1e-bad1-11e8-b2b8-ac1f6b6435d0, target:25 18\n",
      "found leak data ! key:b7ae02d8-bac9-11e8-b2b8-ac1f6b6435d0, target:16 14 23 17\n",
      "found leak data ! key:2a79281c-bad2-11e8-b2b8-ac1f6b6435d0, target:12 25 3\n",
      "found leak data ! key:84ca8928-bad2-11e8-b2b8-ac1f6b6435d0, target:14 17\n",
      "found leak data ! key:fb19471e-bad6-11e8-b2b9-ac1f6b6435d0, target:27\n",
      "found leak data ! key:2327a292-bac7-11e8-b2b7-ac1f6b6435d0, target:16\n",
      "found leak data ! key:fc66d9ca-bacb-11e8-b2b8-ac1f6b6435d0, target:25 20\n",
      "found leak data ! key:8ab0ea40-bac7-11e8-b2b7-ac1f6b6435d0, target:25\n",
      "found leak data ! key:ff10925c-baca-11e8-b2b8-ac1f6b6435d0, target:2\n",
      "found leak data ! key:227f6306-bad2-11e8-b2b8-ac1f6b6435d0, target:25 0\n",
      "found leak data ! key:10d4730a-bada-11e8-b2b9-ac1f6b6435d0, target:25 0\n",
      "found leak data ! key:82c1d5f6-bacc-11e8-b2b8-ac1f6b6435d0, target:25 18 14\n",
      "found leak data ! key:ef33e1fe-bad9-11e8-b2b9-ac1f6b6435d0, target:2\n",
      "found leak data ! key:bf6c33d0-bad5-11e8-b2b9-ac1f6b6435d0, target:4 21\n",
      "found leak data ! key:43357408-bad9-11e8-b2b9-ac1f6b6435d0, target:25 17\n",
      "found leak data ! key:896007d6-bad9-11e8-b2b9-ac1f6b6435d0, target:16 14 17\n",
      "found leak data ! key:b9acf08a-bac9-11e8-b2b8-ac1f6b6435d0, target:16 0\n",
      "found leak data ! key:7ea55010-bac7-11e8-b2b7-ac1f6b6435d0, target:22 0 21\n",
      "found leak data ! key:95f47824-bad9-11e8-b2b9-ac1f6b6435d0, target:22 7 0\n",
      "found leak data ! key:29d1d616-bacd-11e8-b2b8-ac1f6b6435d0, target:19 11\n",
      "found leak data ! key:c86b476c-bac8-11e8-b2b8-ac1f6b6435d0, target:22 23\n",
      "found leak data ! key:42ed5d28-bad7-11e8-b2b9-ac1f6b6435d0, target:4\n",
      "found leak data ! key:32647078-bad6-11e8-b2b9-ac1f6b6435d0, target:25 0\n",
      "found leak data ! key:7d7565e2-bad9-11e8-b2b9-ac1f6b6435d0, target:16 0\n",
      "found leak data ! key:c10a6ba0-bac9-11e8-b2b8-ac1f6b6435d0, target:23\n",
      "found leak data ! key:b642cefc-bad7-11e8-b2b9-ac1f6b6435d0, target:16 25 0\n",
      "found leak data ! key:5d2711a6-bac9-11e8-b2b8-ac1f6b6435d0, target:16 25 14\n",
      "found leak data ! key:a6c830fa-bad9-11e8-b2b9-ac1f6b6435d0, target:22\n",
      "found leak data ! key:ba6febf2-bad4-11e8-b2b8-ac1f6b6435d0, target:16 25\n",
      "found leak data ! key:27ca9b0e-bace-11e8-b2b8-ac1f6b6435d0, target:12\n",
      "found leak data ! key:fcd88d84-bad2-11e8-b2b8-ac1f6b6435d0, target:16 25 14\n",
      "found leak data ! key:b32dd958-bad9-11e8-b2b9-ac1f6b6435d0, target:0\n",
      "found leak data ! key:93222916-bac5-11e8-b2b7-ac1f6b6435d0, target:12 25 21\n",
      "found leak data ! key:9ded793a-bacb-11e8-b2b8-ac1f6b6435d0, target:25 4\n",
      "found leak data ! key:08d14072-bad3-11e8-b2b8-ac1f6b6435d0, target:25 20\n",
      "found leak data ! key:dfd49804-bad7-11e8-b2b9-ac1f6b6435d0, target:27\n",
      "found leak data ! key:3323fc06-bad4-11e8-b2b8-ac1f6b6435d0, target:19 0\n",
      "found leak data ! key:d7935892-bad7-11e8-b2b9-ac1f6b6435d0, target:12\n",
      "found leak data ! key:55eb4db6-baca-11e8-b2b8-ac1f6b6435d0, target:25\n",
      "found leak data ! key:7729b27c-bacc-11e8-b2b8-ac1f6b6435d0, target:25 18 0\n",
      "found leak data ! key:ea22896e-bad3-11e8-b2b8-ac1f6b6435d0, target:14\n",
      "found leak data ! key:201229ac-bad0-11e8-b2b8-ac1f6b6435d0, target:1 2\n",
      "found leak data ! key:aa45019c-bad2-11e8-b2b8-ac1f6b6435d0, target:16 0\n",
      "found leak data ! key:bee1beac-bac7-11e8-b2b7-ac1f6b6435d0, target:19 0\n",
      "found leak data ! key:17d8a71c-bacf-11e8-b2b8-ac1f6b6435d0, target:5\n",
      "found leak data ! key:d8c2d794-bacb-11e8-b2b8-ac1f6b6435d0, target:4\n",
      "found leak data ! key:7c1f771c-bac7-11e8-b2b7-ac1f6b6435d0, target:25 14\n",
      "found leak data ! key:df8d2780-bac8-11e8-b2b8-ac1f6b6435d0, target:16 25 14\n",
      "found leak data ! key:92c7e608-bad5-11e8-b2b9-ac1f6b6435d0, target:25\n",
      "found leak data ! key:1144d38e-bacb-11e8-b2b8-ac1f6b6435d0, target:21\n",
      "found leak data ! key:9eafcf6a-bacd-11e8-b2b8-ac1f6b6435d0, target:25 0 21\n",
      "found leak data ! key:e8bae166-bad8-11e8-b2b9-ac1f6b6435d0, target:25 17 2\n",
      "found leak data ! key:74d557e4-bad4-11e8-b2b8-ac1f6b6435d0, target:25 0\n",
      "found leak data ! key:6e147bc4-bac5-11e8-b2b7-ac1f6b6435d0, target:5\n",
      "found leak data ! key:429edd76-bada-11e8-b2b9-ac1f6b6435d0, target:4 21\n",
      "found leak data ! key:dbb37228-bad1-11e8-b2b8-ac1f6b6435d0, target:4\n",
      "found leak data ! key:b43493dc-bac5-11e8-b2b7-ac1f6b6435d0, target:11 2\n",
      "found leak data ! key:65fe9d4e-bad3-11e8-b2b8-ac1f6b6435d0, target:14\n",
      "found leak data ! key:69cbf89a-bace-11e8-b2b8-ac1f6b6435d0, target:16 25 0\n",
      "found leak data ! key:ae9a3b7a-bacf-11e8-b2b8-ac1f6b6435d0, target:13\n",
      "found leak data ! key:29414644-bad4-11e8-b2b8-ac1f6b6435d0, target:26 4 2 21\n",
      "found leak data ! key:49ba5fae-bacb-11e8-b2b8-ac1f6b6435d0, target:12 0\n",
      "found leak data ! key:e7413d12-bad3-11e8-b2b8-ac1f6b6435d0, target:19 25 0\n",
      "found leak data ! key:c78652b6-bad6-11e8-b2b9-ac1f6b6435d0, target:25 0 21\n",
      "found leak data ! key:f665e29c-bad4-11e8-b2b8-ac1f6b6435d0, target:16 14\n",
      "found leak data ! key:18452b34-bada-11e8-b2b9-ac1f6b6435d0, target:1 0\n",
      "found leak data ! key:98723c1c-bad9-11e8-b2b9-ac1f6b6435d0, target:25 0 21\n",
      "found leak data ! key:edb5b41e-bad0-11e8-b2b8-ac1f6b6435d0, target:16 0\n",
      "found leak data ! key:5be8cbfc-bad0-11e8-b2b8-ac1f6b6435d0, target:0\n",
      "found leak data ! key:01c878b4-bac8-11e8-b2b7-ac1f6b6435d0, target:4\n",
      "found leak data ! key:54138f64-bad7-11e8-b2b9-ac1f6b6435d0, target:25 17\n",
      "found leak data ! key:cf3ce352-bad7-11e8-b2b9-ac1f6b6435d0, target:0\n",
      "found leak data ! key:e6e8f9c4-bacc-11e8-b2b8-ac1f6b6435d0, target:25\n",
      "found leak data ! key:39d745ba-bacc-11e8-b2b8-ac1f6b6435d0, target:22 0\n",
      "found leak data ! key:da5b852e-bacb-11e8-b2b8-ac1f6b6435d0, target:2\n",
      "found leak data ! key:65216b84-bac6-11e8-b2b7-ac1f6b6435d0, target:2\n",
      "found leak data ! key:01835f6c-bad3-11e8-b2b8-ac1f6b6435d0, target:4\n",
      "found leak data ! key:d69acc70-bac5-11e8-b2b7-ac1f6b6435d0, target:0\n",
      "found leak data ! key:e6e2ce5c-baca-11e8-b2b8-ac1f6b6435d0, target:25\n",
      "found leak data ! key:58148166-bacf-11e8-b2b8-ac1f6b6435d0, target:16 14\n",
      "found leak data ! key:6102912e-bad8-11e8-b2b9-ac1f6b6435d0, target:23\n",
      "found leak data ! key:4e10aecc-bacc-11e8-b2b8-ac1f6b6435d0, target:25 0\n",
      "found leak data ! key:4d3576d4-bac9-11e8-b2b8-ac1f6b6435d0, target:25 0 21\n",
      "found leak data ! key:ec087d1e-bacf-11e8-b2b8-ac1f6b6435d0, target:16 25 0\n",
      "found leak data ! key:b38c1168-bac9-11e8-b2b8-ac1f6b6435d0, target:1 2\n"
     ]
    }
   ],
   "source": [
    "th_t = np.array([0.565,0.39,0.55,0.345,0.33,0.39,0.33,0.45,0.38,0.39,\n",
    "               0.34,0.42,0.31,0.38,0.49,0.50,0.38,0.43,0.46,0.40,\n",
    "               0.39,0.505,0.37,0.47,0.41,0.545,0.32,0.1])\n",
    "print('Fractions: ',(pred_t > th_t).mean(axis=0))\n",
    "save_pred(pred_t,th_t, use_leak=True)"
   ]
  },
  {
   "cell_type": "code",
   "execution_count": 75,
   "metadata": {},
   "outputs": [
    {
     "name": "stdout",
     "output_type": "stream",
     "text": [
      "Thresholds:  [0.565 0.39  0.55  0.345 0.33  0.39  0.33  0.45  0.38  0.39  0.34  0.42  0.31  0.38  0.49  0.5   0.38  0.43\n",
      " 0.46  0.4   0.39  0.505 0.37  0.47  0.41  0.545 0.32  0.1  ]\n",
      "F1 macro:  0.5550297956508498\n",
      "F1 macro (th = 0.5):  0.6408342696559723\n",
      "F1 micro:  0.668060133451242\n"
     ]
    }
   ],
   "source": [
    "print('Thresholds: ',th_t)\n",
    "print('F1 macro: ',f1_score(y, pred>th_t, average='macro'))\n",
    "print('F1 macro (th = 0.5): ',f1_score(y, pred>0.5, average='macro'))\n",
    "print('F1 micro: ',f1_score(y, pred>th_t, average='micro'))"
   ]
  },
  {
   "cell_type": "code",
   "execution_count": 76,
   "metadata": {},
   "outputs": [],
   "source": [
    "lb_prob = [\n",
    " 0.362397820,0.043841336,0.075268817,0.059322034,0.075268817,\n",
    " 0.075268817,0.043841336,0.075268817,0.010000000,0.010000000,\n",
    " 0.010000000,0.043841336,0.043841336,0.014198783,0.043841336,\n",
    " 0.010000000,0.028806584,0.014198783,0.028806584,0.059322034,\n",
    " 0.010000000,0.126126126,0.028806584,0.075268817,0.010000000,\n",
    " 0.222493880,0.028806584,0.010000000]\n",
    "# I replaced 0 by 0.01 since there may be a rounding error leading to 0"
   ]
  },
  {
   "cell_type": "code",
   "execution_count": 77,
   "metadata": {},
   "outputs": [],
   "source": [
    "def Count_soft(preds,th=0.5,d=50.0):\n",
    "    preds = sigmoid_np(d*(preds - th))\n",
    "    return preds.mean(axis=0)\n",
    "\n",
    "def fit_test(x,y):\n",
    "    params = 0.5*np.ones(len(utils_pytorch.name_label_dict))\n",
    "    wd = 1e-5\n",
    "    error = lambda p: np.concatenate((Count_soft(x,p) - y,\n",
    "                                      wd*(p - 0.5)), axis=None)\n",
    "    p, success = opt.leastsq(error, params)\n",
    "    return p"
   ]
  },
  {
   "cell_type": "code",
   "execution_count": 78,
   "metadata": {},
   "outputs": [
    {
     "name": "stdout",
     "output_type": "stream",
     "text": [
      "Thresholds:  [0.6435  0.47741 0.66794 0.43134 0.38736 0.51992 0.42557 0.55425 0.21507 0.19063 0.15043 0.517   0.35394\n",
      " 0.48779 0.53776 0.23495 0.43207 0.50993 0.51531 0.47299 0.38989 0.58318 0.46176 0.62953 0.58883 0.62448\n",
      " 0.40747 0.16856]\n",
      "Fractions:  [0.36293 0.04375 0.07537 0.05691 0.07332 0.07366 0.04187 0.07469 0.00863 0.00846 0.00761 0.04307 0.04145\n",
      " 0.01376 0.04324 0.00778 0.02726 0.01401 0.02692 0.05794 0.00957 0.12391 0.02863 0.0746  0.01    0.22048\n",
      " 0.0282  0.00658]\n",
      "Fractions (th = 0.5):  [0.50658 0.04051 0.13314 0.04025 0.04478 0.08187 0.02743 0.09374 0.0012  0.00111 0.00043 0.04598 0.02059\n",
      " 0.01299 0.04862 0.00026 0.01598 0.01444 0.03187 0.04794 0.00316 0.19133 0.02282 0.121   0.01325 0.41506\n",
      " 0.01564 0.00009]\n"
     ]
    }
   ],
   "source": [
    "th_t = fit_test(pred_t,lb_prob)\n",
    "th_t[th_t<0.1] = 0.1\n",
    "print('Thresholds: ',th_t)\n",
    "print('Fractions: ',(pred_t > th_t).mean(axis=0))\n",
    "print('Fractions (th = 0.5): ',(pred_t > 0.5).mean(axis=0))"
   ]
  },
  {
   "cell_type": "code",
   "execution_count": 79,
   "metadata": {},
   "outputs": [
    {
     "name": "stdout",
     "output_type": "stream",
     "text": [
      "Thresholds:  [0.6435  0.47741 0.66794 0.43134 0.38736 0.51992 0.42557 0.55425 0.21507 0.19063 0.15043 0.517   0.35394\n",
      " 0.48779 0.53776 0.23495 0.43207 0.50993 0.51531 0.47299 0.38989 0.58318 0.46176 0.62953 0.58883 0.62448\n",
      " 0.40747 0.16856]\n",
      "F1 macro:  0.5403567463009497\n",
      "F1 macro (th = 0.5):  0.6408342696559723\n",
      "F1 micro:  0.7031615925058549\n"
     ]
    }
   ],
   "source": [
    "print('Thresholds: ',th_t)\n",
    "print('F1 macro: ',f1_score(y, pred>th_t, average='macro'))\n",
    "print('F1 macro (th = 0.5): ',f1_score(y, pred>0.5, average='macro'))\n",
    "print('F1 micro: ',f1_score(y, pred>th_t, average='micro'))"
   ]
  },
  {
   "cell_type": "code",
   "execution_count": 80,
   "metadata": {},
   "outputs": [],
   "source": [
    "save_pred(pred_t,th_t,'protein_classification_f.csv')"
   ]
  },
  {
   "cell_type": "code",
   "execution_count": 81,
   "metadata": {},
   "outputs": [],
   "source": [
    "save_pred(pred_t,th,'protein_classification_v.csv')\n",
    "save_pred(pred_t,0.5,'protein_classification_05.csv')"
   ]
  },
  {
   "cell_type": "code",
   "execution_count": 82,
   "metadata": {},
   "outputs": [],
   "source": [
    "class_list = [8,9,10,15,20,24,27]\n",
    "for i in class_list:\n",
    "    th_t[i] = th[i]\n",
    "save_pred(pred_t,th_t,'protein_classification_c.csv')"
   ]
  },
  {
   "cell_type": "code",
   "execution_count": 83,
   "metadata": {},
   "outputs": [
    {
     "data": {
      "text/plain": [
       "(array([12885.,  1254.,  3621.,  1561.,  1858.,  2513.,  1008.,  2822.,    53.,    45.,    28.,  1093.,\n",
       "          688.,   537.,  1066.,    21.,   530.,   210.,   902.,  1482.,   172.,  3777.,   802.,  2965.,\n",
       "          322.,  8228.,   328.,    11.]),\n",
       " array([0.41468, 0.04036, 0.11654, 0.05024, 0.0598 , 0.08088, 0.03244, 0.09082, 0.00171, 0.00145, 0.0009 ,\n",
       "        0.03518, 0.02214, 0.01728, 0.03431, 0.00068, 0.01706, 0.00676, 0.02903, 0.0477 , 0.00554, 0.12156,\n",
       "        0.02581, 0.09542, 0.01036, 0.2648 , 0.01056, 0.00035]))"
      ]
     },
     "execution_count": 83,
     "metadata": {},
     "output_type": "execute_result"
    }
   ],
   "source": [
    "labels = pd.read_csv(utils_pytorch.LABELS).set_index('Id')\n",
    "label_count = np.zeros(len(utils_pytorch.name_label_dict))\n",
    "for label in labels['Target']:\n",
    "    l = [int(i) for i in label.split()]\n",
    "    label_count += np.eye(len(utils_pytorch.name_label_dict))[l].sum(axis=0)\n",
    "label_fraction = label_count.astype(np.float)/len(labels)\n",
    "label_count, label_fraction"
   ]
  },
  {
   "cell_type": "code",
   "execution_count": 84,
   "metadata": {},
   "outputs": [
    {
     "name": "stdout",
     "output_type": "stream",
     "text": [
      "Thresholds:  [0.59119 0.50619 0.54256 0.46059 0.43176 0.50696 0.4774  0.51016 0.43689 0.46348 0.43238 0.57592 0.48358\n",
      " 0.44803 0.64201 0.42251 0.50035 0.62928 0.51449 0.50632 0.44993 0.58955 0.48298 0.5663  0.57696 0.596\n",
      " 0.55448 0.30047]\n",
      "Fractions:  [0.41437 0.03991 0.11588 0.04871 0.05768 0.07879 0.03205 0.08973 0.00145 0.00145 0.00094 0.03435 0.02171\n",
      " 0.01675 0.0341  0.0006  0.01589 0.00675 0.02709 0.04674 0.00513 0.11964 0.02538 0.09392 0.01025 0.26354\n",
      " 0.01008 0.00017]\n"
     ]
    }
   ],
   "source": [
    "th_t = fit_test(pred_t,label_fraction)\n",
    "th_t[th_t<0.05] = 0.05\n",
    "print('Thresholds: ',th_t)\n",
    "print('Fractions: ',(pred_t > th_t).mean(axis=0))\n",
    "save_pred(pred_t,th_t,'protein_classification_t.csv')"
   ]
  },
  {
   "cell_type": "code",
   "execution_count": 85,
   "metadata": {},
   "outputs": [
    {
     "name": "stdout",
     "output_type": "stream",
     "text": [
      "Thresholds:  [0.59119 0.50619 0.54256 0.46059 0.43176 0.50696 0.4774  0.51016 0.43689 0.46348 0.43238 0.57592 0.48358\n",
      " 0.44803 0.64201 0.42251 0.50035 0.62928 0.51449 0.50632 0.44993 0.58955 0.48298 0.5663  0.57696 0.596\n",
      " 0.55448 0.30047]\n",
      "F1 macro:  0.639705943112005\n",
      "F1 macro (th = 0.5):  0.6408342696559723\n",
      "F1 micro:  0.7362335880854399\n"
     ]
    }
   ],
   "source": [
    "print('Thresholds: ',th_t)\n",
    "print('F1 macro: ',f1_score(y, pred>th_t, average='macro'))\n",
    "print('F1 macro (th = 0.5): ',f1_score(y, pred>0.5, average='macro'))\n",
    "print('F1 micro: ',f1_score(y, pred>th_t, average='micro'))"
   ]
  },
  {
   "cell_type": "code",
   "execution_count": null,
   "metadata": {},
   "outputs": [],
   "source": []
  },
  {
   "cell_type": "code",
   "execution_count": null,
   "metadata": {},
   "outputs": [],
   "source": []
  },
  {
   "cell_type": "code",
   "execution_count": null,
   "metadata": {},
   "outputs": [],
   "source": []
  },
  {
   "cell_type": "code",
   "execution_count": null,
   "metadata": {},
   "outputs": [],
   "source": []
  },
  {
   "cell_type": "code",
   "execution_count": null,
   "metadata": {},
   "outputs": [],
   "source": []
  }
 ],
 "metadata": {
  "kernelspec": {
   "display_name": "Python 3",
   "language": "python",
   "name": "python3"
  },
  "language_info": {
   "codemirror_mode": {
    "name": "ipython",
    "version": 3
   },
   "file_extension": ".py",
   "mimetype": "text/x-python",
   "name": "python",
   "nbconvert_exporter": "python",
   "pygments_lexer": "ipython3",
   "version": "3.6.5"
  }
 },
 "nbformat": 4,
 "nbformat_minor": 2
}
