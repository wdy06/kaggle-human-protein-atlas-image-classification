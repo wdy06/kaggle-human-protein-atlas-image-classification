{
 "cells": [
  {
   "cell_type": "code",
   "execution_count": 1,
   "metadata": {},
   "outputs": [
    {
     "name": "stdout",
     "output_type": "stream",
     "text": [
      "['', '/opt/conda/lib/python36.zip', '/opt/conda/lib/python3.6', '/opt/conda/lib/python3.6/lib-dynload', '/opt/conda/lib/python3.6/site-packages', '/opt/conda/lib/python3.6/site-packages/torchvision-0.2.1-py3.6.egg', '/opt/conda/lib/python3.6/site-packages/IPython/extensions', '/home/yukimiki/.ipython']\n"
     ]
    }
   ],
   "source": [
    "import sys\n",
    "print(sys.path)\n",
    "import seaborn as sns\n",
    "sns.set()\n",
    "sys.path.append(\"/tmp/fastai/old\")"
   ]
  },
  {
   "cell_type": "code",
   "execution_count": 2,
   "metadata": {},
   "outputs": [],
   "source": [
    "from fastai.conv_learner import *\n",
    "from fastai.dataset import *"
   ]
  },
  {
   "cell_type": "code",
   "execution_count": 3,
   "metadata": {},
   "outputs": [],
   "source": [
    "from datetime import datetime\n",
    "import pandas as pd\n",
    "import numpy as np\n",
    "np.random.seed(seed=32)\n",
    "import os\n",
    "from sklearn.model_selection import train_test_split\n",
    "from sklearn.metrics import f1_score\n",
    "import scipy.optimize as opt\n",
    "import warnings\n",
    "warnings.filterwarnings('ignore')\n",
    "\n",
    "import tensorflow as tf\n",
    "#from torchvision.transforms import RandomHorizontalFlip, RandomVerticalFlip\n",
    "from tensorboard_cb import TensorboardLogger\n",
    "import torch\n",
    "torch.manual_seed(7)\n",
    "torch.cuda.manual_seed_all(7)\n",
    "import utils_pytorch"
   ]
  },
  {
   "cell_type": "code",
   "execution_count": 4,
   "metadata": {},
   "outputs": [],
   "source": [
    "nw = 20   #number of workers for data loader\n",
    "arch = resnet34 #specify target architecture"
   ]
  },
  {
   "cell_type": "code",
   "execution_count": 5,
   "metadata": {},
   "outputs": [],
   "source": [
    "train_names = list({f[:36] for f in os.listdir(utils_pytorch.TRAIN)})\n",
    "test_names = list({f[:36] for f in os.listdir(utils_pytorch.TEST)})\n",
    "# tr_n, val_n = train_test_split(train_names, test_size=0.1, random_state=42)\n",
    "\n",
    "data_info = pd.read_csv(utils_pytorch.LABELS)\n",
    "tr_n, val_n = train_test_split(data_info, test_size = 0.1, \n",
    "                 stratify = data_info['Target'].map(lambda x: x[:3] if '27' not in x else '0'), random_state=42)\n",
    "tr_n = tr_n['Id'].tolist()\n",
    "val_n = val_n['Id'].tolist()"
   ]
  },
  {
   "cell_type": "code",
   "execution_count": 6,
   "metadata": {},
   "outputs": [],
   "source": [
    "def get_data(sz,bs,stats=None):\n",
    "    #data augmentation\n",
    "    aug_tfms = [RandomRotate(45, tfm_y=TfmType.NO),\n",
    "                RandomFlip(),\n",
    "                RandomDihedral(tfm_y=TfmType.NO),\n",
    "                RandomLighting(0.05, 0.05, tfm_y=TfmType.NO)]\n",
    "    #mean and std in of each channel in the train set\n",
    "    #stats = A([0.08069, 0.05258, 0.05487, 0.08282], [0.13704, 0.10145, 0.15313, 0.13814])\n",
    "    if stats is None:\n",
    "        stats = A([0.0804419, 0.05262986, 0.05474701, 0.08270896], [0.13000701, 0.08796628, 0.1386317, 0.12718021]) # calulate myself\n",
    "    else:\n",
    "        stats = A(stats)\n",
    "    tfms = tfms_from_stats(stats, sz, crop_type=CropType.NO, tfm_y=TfmType.NO, \n",
    "                aug_tfms=aug_tfms)\n",
    "    ds = ImageData.get_ds(utils_pytorch.pdFilesDataset, (tr_n[:-(len(tr_n)%bs)],utils_pytorch.TRAIN), \n",
    "                (val_n,utils_pytorch.TRAIN), tfms, test=(test_names,utils_pytorch.TEST))\n",
    "    md = ImageData(utils_pytorch.PATH, ds, bs, num_workers=nw, classes=None)\n",
    "    return md"
   ]
  },
  {
   "cell_type": "code",
   "execution_count": 7,
   "metadata": {},
   "outputs": [],
   "source": [
    "sz = 512 #image size\n",
    "bs = 64  #batch size\n",
    "\n",
    "# dir_name = datetime.strftime(datetime.now(), '%Y%m%d%H%M%S')\n",
    "# print(dir_name)\n",
    "# dir_path = os.path.join('test', dir_name)\n",
    "best_model_path = '20181201025910_size512_best_resnet'\n",
    "\n",
    "\n",
    "md = get_data(sz,bs)\n",
    "learner = utils_pytorch.ConvLearner.pretrained(arch, md, ps=0.5) #dropout 50%\n",
    "#pretrained_model_name = '20181124135324best_resnet' # 299\n",
    "#pretrained_model_name = '20181125052614best_resnet' # 512\n",
    "#learner.load(pretrained_model_name)\n",
    "learner.load(best_model_path)\n",
    "learner.set_data(md)\n",
    "\n",
    "# learner.opt_fn = optim.Adam\n",
    "# learner.clip = 1.0 #gradient clipping\n",
    "# learner.crit = utils_pytorch.FocalLoss()\n",
    "# learner.metrics = [utils_pytorch.acc, utils_pytorch.f1_torch]\n",
    "# tb_logger = TensorboardLogger(learner.model, md, dir_path, metrics_names=['acc', 'f1'])\n",
    "#save_best_model = SaveBestModel(model=learner.model)"
   ]
  },
  {
   "cell_type": "code",
   "execution_count": 8,
   "metadata": {},
   "outputs": [
    {
     "name": "stdout",
     "output_type": "stream",
     "text": []
    }
   ],
   "source": [
    "def sigmoid_np(x):\n",
    "    return 1.0/(1.0 + np.exp(-x))\n",
    "\n",
    "preds,y = learner.TTA(n_aug=16)\n",
    "preds = np.stack(preds, axis=-1)\n",
    "preds = sigmoid_np(preds)\n",
    "pred = preds.max(axis=-1)"
   ]
  },
  {
   "cell_type": "code",
   "execution_count": 9,
   "metadata": {},
   "outputs": [],
   "source": [
    "def F1_soft(preds,targs,th=0.5,d=50.0):\n",
    "    preds = sigmoid_np(d*(preds - th))\n",
    "    targs = targs.astype(np.float)\n",
    "    score = 2.0*(preds*targs).sum(axis=0)/((preds+targs).sum(axis=0) + 1e-6)\n",
    "    return score\n",
    "\n",
    "def fit_val(x,y):\n",
    "    params = 0.5*np.ones(len(utils_pytorch.name_label_dict))\n",
    "    wd = 1e-5\n",
    "    error = lambda p: np.concatenate((F1_soft(x,y,p) - 1.0,\n",
    "                                      wd*(p - 0.5)), axis=None)\n",
    "    p, success = opt.leastsq(error, params)\n",
    "    return p"
   ]
  },
  {
   "cell_type": "code",
   "execution_count": 10,
   "metadata": {},
   "outputs": [
    {
     "name": "stdout",
     "output_type": "stream",
     "text": [
      "Thresholds:  [0.55378 0.57474 0.57471 0.59127 0.58363 0.63822 0.55454 0.64155 0.63851 0.6012  0.63056 0.60766 0.61747\n",
      " 0.64713 0.58832 2.25547 0.5129  0.6432  0.53469 0.55045 0.54323 0.54961 0.56721 0.66442 0.63134 0.52532\n",
      " 0.65931 0.33687]\n",
      "F1 macro:  0.736923043442027\n",
      "F1 macro (th = 0.5):  0.686862048625337\n",
      "F1 micro:  0.7962816455696202\n"
     ]
    }
   ],
   "source": [
    "th = fit_val(pred,y)\n",
    "th[th<0.1] = 0.1\n",
    "print('Thresholds: ',th)\n",
    "print('F1 macro: ',f1_score(y, pred>th, average='macro'))\n",
    "print('F1 macro (th = 0.5): ',f1_score(y, pred>0.5, average='macro'))\n",
    "print('F1 micro: ',f1_score(y, pred>th, average='micro'))"
   ]
  },
  {
   "cell_type": "code",
   "execution_count": 11,
   "metadata": {},
   "outputs": [
    {
     "name": "stdout",
     "output_type": "stream",
     "text": [
      "Fractions:  [0.45045 0.03861 0.1139  0.0444  0.05405 0.06017 0.02671 0.07851 0.00129 0.00129 0.00129 0.03378 0.01834\n",
      " 0.01062 0.03571 0.      0.01319 0.00579 0.02606 0.04537 0.00225 0.12838 0.02027 0.08301 0.01094 0.31145\n",
      " 0.00804 0.00032]\n",
      "Fractions (true):  [0.42535 0.03861 0.11776 0.04923 0.05856 0.07497 0.03185 0.08784 0.00129 0.00161 0.00097 0.03539 0.0222\n",
      " 0.01544 0.03636 0.      0.01673 0.00804 0.03024 0.04698 0.00547 0.12323 0.02574 0.09299 0.0103  0.26062\n",
      " 0.01062 0.00032]\n"
     ]
    }
   ],
   "source": [
    "print('Fractions: ',(pred > th).mean(axis=0))\n",
    "print('Fractions (true): ',(y > th).mean(axis=0))"
   ]
  },
  {
   "cell_type": "code",
   "execution_count": 12,
   "metadata": {},
   "outputs": [],
   "source": [
    "stats = np.array([[0.05908022, 0.04532852, 0.04065233, 0.05923426], [0.10371015, 0.07984633, 0.10664798, 0.09878183]])\n",
    "md = get_data(sz,bs, stats)\n",
    "learner.set_data(md)"
   ]
  },
  {
   "cell_type": "code",
   "execution_count": 13,
   "metadata": {},
   "outputs": [
    {
     "name": "stdout",
     "output_type": "stream",
     "text": []
    }
   ],
   "source": [
    "preds_t,y_t = learner.TTA(n_aug=16,is_test=True)\n",
    "preds_t = np.stack(preds_t, axis=-1)\n",
    "preds_t = sigmoid_np(preds_t)\n",
    "pred_t = preds_t.max(axis=-1) #max works better for F1 macro score"
   ]
  },
  {
   "cell_type": "code",
   "execution_count": 14,
   "metadata": {},
   "outputs": [],
   "source": [
    "def save_pred(pred, th=0.5, fname='protein_classification.csv'):\n",
    "    pred_list = []\n",
    "    for line in pred:\n",
    "        s = ' '.join(list([str(i) for i in np.nonzero(line>th)[0]]))\n",
    "        pred_list.append(s)\n",
    "        \n",
    "    sample_df = pd.read_csv(utils_pytorch.SAMPLE)\n",
    "    sample_list = list(sample_df.Id)\n",
    "    pred_dic = dict((key, value) for (key, value) \n",
    "                in zip(learner.data.test_ds.fnames,pred_list))\n",
    "    pred_list_cor = [pred_dic[id] for id in sample_list]\n",
    "    df = pd.DataFrame({'Id':sample_list,'Predicted':pred_list_cor})\n",
    "    df.to_csv(fname, header=True, index=False)"
   ]
  },
  {
   "cell_type": "code",
   "execution_count": 15,
   "metadata": {},
   "outputs": [
    {
     "name": "stdout",
     "output_type": "stream",
     "text": [
      "Fractions:  [0.43634 0.05008 0.10614 0.08016 0.08281 0.14878 0.07178 0.11246 0.00231 0.00171 0.00145 0.05862 0.05162\n",
      " 0.02581 0.04717 0.00009 0.0582  0.02829 0.04222 0.09041 0.01119 0.18817 0.05486 0.12408 0.01777 0.34644\n",
      " 0.04256 0.01846]\n"
     ]
    }
   ],
   "source": [
    "th_t = np.array([0.565,0.39,0.55,0.345,0.33,0.39,0.33,0.45,0.38,0.39,\n",
    "               0.34,0.42,0.31,0.38,0.49,0.50,0.38,0.43,0.46,0.40,\n",
    "               0.39,0.505,0.37,0.47,0.41,0.545,0.32,0.1])\n",
    "print('Fractions: ',(pred_t > th_t).mean(axis=0))\n",
    "save_pred(pred_t,th_t)"
   ]
  },
  {
   "cell_type": "code",
   "execution_count": 16,
   "metadata": {},
   "outputs": [
    {
     "name": "stdout",
     "output_type": "stream",
     "text": [
      "Thresholds:  [0.565 0.39  0.55  0.345 0.33  0.39  0.33  0.45  0.38  0.39  0.34  0.42  0.31  0.38  0.49  0.5   0.38  0.43\n",
      " 0.46  0.4   0.39  0.505 0.37  0.47  0.41  0.545 0.32  0.1  ]\n",
      "F1 macro:  0.6031190285205824\n",
      "F1 macro (th = 0.5):  0.686862048625337\n",
      "F1 micro:  0.7147127200265692\n"
     ]
    }
   ],
   "source": [
    "print('Thresholds: ',th_t)\n",
    "print('F1 macro: ',f1_score(y, pred>th_t, average='macro'))\n",
    "print('F1 macro (th = 0.5): ',f1_score(y, pred>0.5, average='macro'))\n",
    "print('F1 micro: ',f1_score(y, pred>th_t, average='micro'))"
   ]
  },
  {
   "cell_type": "code",
   "execution_count": 17,
   "metadata": {},
   "outputs": [],
   "source": [
    "lb_prob = [\n",
    " 0.362397820,0.043841336,0.075268817,0.059322034,0.075268817,\n",
    " 0.075268817,0.043841336,0.075268817,0.010000000,0.010000000,\n",
    " 0.010000000,0.043841336,0.043841336,0.014198783,0.043841336,\n",
    " 0.010000000,0.028806584,0.014198783,0.028806584,0.059322034,\n",
    " 0.010000000,0.126126126,0.028806584,0.075268817,0.010000000,\n",
    " 0.222493880,0.028806584,0.010000000]\n",
    "# I replaced 0 by 0.01 since there may be a rounding error leading to 0"
   ]
  },
  {
   "cell_type": "code",
   "execution_count": 18,
   "metadata": {},
   "outputs": [],
   "source": [
    "def Count_soft(preds,th=0.5,d=50.0):\n",
    "    preds = sigmoid_np(d*(preds - th))\n",
    "    return preds.mean(axis=0)\n",
    "\n",
    "def fit_test(x,y):\n",
    "    params = 0.5*np.ones(len(utils_pytorch.name_label_dict))\n",
    "    wd = 1e-5\n",
    "    error = lambda p: np.concatenate((Count_soft(x,p) - y,\n",
    "                                      wd*(p - 0.5)), axis=None)\n",
    "    p, success = opt.leastsq(error, params)\n",
    "    return p"
   ]
  },
  {
   "cell_type": "code",
   "execution_count": 19,
   "metadata": {},
   "outputs": [
    {
     "name": "stdout",
     "output_type": "stream",
     "text": [
      "Thresholds:  [0.64425 0.46003 0.66883 0.41708 0.35597 0.54567 0.4122  0.56877 0.20519 0.17657 0.13772 0.50965 0.3439\n",
      " 0.52351 0.53443 0.1951  0.50234 0.57111 0.52003 0.49794 0.40414 0.60768 0.50337 0.63289 0.58591 0.63755\n",
      " 0.38292 0.14437]\n",
      "Fractions:  [0.36344 0.0435  0.07512 0.0582  0.07272 0.07443 0.04213 0.07409 0.00872 0.00837 0.00684 0.04367 0.0429\n",
      " 0.01419 0.04384 0.0088  0.0276  0.01393 0.02777 0.05837 0.00983 0.12647 0.02837 0.07469 0.01008 0.22116\n",
      " 0.02769 0.00521]\n",
      "Fractions (th = 0.5):  [0.49539 0.04102 0.12485 0.04298 0.04649 0.0899  0.02957 0.09503 0.00128 0.00085 0.00051 0.04504 0.02213\n",
      " 0.01478 0.04657 0.00009 0.02803 0.01957 0.03196 0.0576  0.0047  0.19159 0.02871 0.11348 0.01325 0.40446\n",
      " 0.01513 0.     ]\n"
     ]
    }
   ],
   "source": [
    "th_t = fit_test(pred_t,lb_prob)\n",
    "th_t[th_t<0.1] = 0.1\n",
    "print('Thresholds: ',th_t)\n",
    "print('Fractions: ',(pred_t > th_t).mean(axis=0))\n",
    "print('Fractions (th = 0.5): ',(pred_t > 0.5).mean(axis=0))"
   ]
  },
  {
   "cell_type": "code",
   "execution_count": 20,
   "metadata": {},
   "outputs": [
    {
     "name": "stdout",
     "output_type": "stream",
     "text": [
      "Thresholds:  [0.64425 0.46003 0.66883 0.41708 0.35597 0.54567 0.4122  0.56877 0.20519 0.17657 0.13772 0.50965 0.3439\n",
      " 0.52351 0.53443 0.1951  0.50234 0.57111 0.52003 0.49794 0.40414 0.60768 0.50337 0.63289 0.58591 0.63755\n",
      " 0.38292 0.14437]\n",
      "F1 macro:  0.5904756986410729\n",
      "F1 macro (th = 0.5):  0.686862048625337\n",
      "F1 micro:  0.7422274695001969\n"
     ]
    }
   ],
   "source": [
    "print('Thresholds: ',th_t)\n",
    "print('F1 macro: ',f1_score(y, pred>th_t, average='macro'))\n",
    "print('F1 macro (th = 0.5): ',f1_score(y, pred>0.5, average='macro'))\n",
    "print('F1 micro: ',f1_score(y, pred>th_t, average='micro'))"
   ]
  },
  {
   "cell_type": "code",
   "execution_count": 21,
   "metadata": {},
   "outputs": [],
   "source": [
    "save_pred(pred_t,th_t,'protein_classification_f.csv')"
   ]
  },
  {
   "cell_type": "code",
   "execution_count": 22,
   "metadata": {},
   "outputs": [],
   "source": [
    "save_pred(pred_t,th,'protein_classification_v.csv')\n",
    "save_pred(pred_t,0.5,'protein_classification_05.csv')"
   ]
  },
  {
   "cell_type": "code",
   "execution_count": 23,
   "metadata": {},
   "outputs": [],
   "source": [
    "class_list = [8,9,10,15,20,24,27]\n",
    "for i in class_list:\n",
    "    th_t[i] = th[i]\n",
    "save_pred(pred_t,th_t,'protein_classification_c.csv')"
   ]
  },
  {
   "cell_type": "code",
   "execution_count": 24,
   "metadata": {},
   "outputs": [
    {
     "data": {
      "text/plain": [
       "(array([12885.,  1254.,  3621.,  1561.,  1858.,  2513.,  1008.,  2822.,    53.,    45.,    28.,  1093.,\n",
       "          688.,   537.,  1066.,    21.,   530.,   210.,   902.,  1482.,   172.,  3777.,   802.,  2965.,\n",
       "          322.,  8228.,   328.,    11.]),\n",
       " array([0.41468, 0.04036, 0.11654, 0.05024, 0.0598 , 0.08088, 0.03244, 0.09082, 0.00171, 0.00145, 0.0009 ,\n",
       "        0.03518, 0.02214, 0.01728, 0.03431, 0.00068, 0.01706, 0.00676, 0.02903, 0.0477 , 0.00554, 0.12156,\n",
       "        0.02581, 0.09542, 0.01036, 0.2648 , 0.01056, 0.00035]))"
      ]
     },
     "execution_count": 24,
     "metadata": {},
     "output_type": "execute_result"
    }
   ],
   "source": [
    "labels = pd.read_csv(utils_pytorch.LABELS).set_index('Id')\n",
    "label_count = np.zeros(len(utils_pytorch.name_label_dict))\n",
    "for label in labels['Target']:\n",
    "    l = [int(i) for i in label.split()]\n",
    "    label_count += np.eye(len(utils_pytorch.name_label_dict))[l].sum(axis=0)\n",
    "label_fraction = label_count.astype(np.float)/len(labels)\n",
    "label_count, label_fraction"
   ]
  },
  {
   "cell_type": "code",
   "execution_count": 25,
   "metadata": {},
   "outputs": [
    {
     "name": "stdout",
     "output_type": "stream",
     "text": [
      "Thresholds:  [0.58835 0.51234 0.52186 0.46062 0.41536 0.52789 0.4769  0.51395 0.43506 0.43711 0.41656 0.57684 0.50098\n",
      " 0.47007 0.66362 0.35646 0.59474 0.7181  0.51889 0.54696 0.48079 0.61569 0.52773 0.55849 0.57402 0.60503\n",
      " 0.56819 0.29643]\n",
      "Fractions:  [0.41531 0.04068 0.11554 0.05042 0.05879 0.0799  0.0323  0.09067 0.00162 0.00154 0.00094 0.03478 0.02196\n",
      " 0.01675 0.0341  0.0006  0.01658 0.00649 0.02803 0.04734 0.0053  0.12143 0.02521 0.09494 0.01025 0.26474\n",
      " 0.01077 0.00034]\n"
     ]
    }
   ],
   "source": [
    "th_t = fit_test(pred_t,label_fraction)\n",
    "th_t[th_t<0.05] = 0.05\n",
    "print('Thresholds: ',th_t)\n",
    "print('Fractions: ',(pred_t > th_t).mean(axis=0))\n",
    "save_pred(pred_t,th_t,'protein_classification_t.csv')"
   ]
  },
  {
   "cell_type": "code",
   "execution_count": 26,
   "metadata": {},
   "outputs": [
    {
     "name": "stdout",
     "output_type": "stream",
     "text": [
      "Thresholds:  [0.58835 0.51234 0.52186 0.46062 0.41536 0.52789 0.4769  0.51395 0.43506 0.43711 0.41656 0.57684 0.50098\n",
      " 0.47007 0.66362 0.35646 0.59474 0.7181  0.51889 0.54696 0.48079 0.61569 0.52773 0.55849 0.57402 0.60503\n",
      " 0.56819 0.29643]\n",
      "F1 macro:  0.7082964931957392\n",
      "F1 macro (th = 0.5):  0.686862048625337\n",
      "F1 micro:  0.7760869565217391\n"
     ]
    }
   ],
   "source": [
    "print('Thresholds: ',th_t)\n",
    "print('F1 macro: ',f1_score(y, pred>th_t, average='macro'))\n",
    "print('F1 macro (th = 0.5): ',f1_score(y, pred>0.5, average='macro'))\n",
    "print('F1 micro: ',f1_score(y, pred>th_t, average='micro'))"
   ]
  },
  {
   "cell_type": "code",
   "execution_count": null,
   "metadata": {},
   "outputs": [],
   "source": []
  },
  {
   "cell_type": "code",
   "execution_count": null,
   "metadata": {},
   "outputs": [],
   "source": []
  },
  {
   "cell_type": "code",
   "execution_count": null,
   "metadata": {},
   "outputs": [],
   "source": []
  },
  {
   "cell_type": "code",
   "execution_count": null,
   "metadata": {},
   "outputs": [],
   "source": []
  },
  {
   "cell_type": "code",
   "execution_count": null,
   "metadata": {},
   "outputs": [],
   "source": []
  }
 ],
 "metadata": {
  "kernelspec": {
   "display_name": "Python 3",
   "language": "python",
   "name": "python3"
  },
  "language_info": {
   "codemirror_mode": {
    "name": "ipython",
    "version": 3
   },
   "file_extension": ".py",
   "mimetype": "text/x-python",
   "name": "python",
   "nbconvert_exporter": "python",
   "pygments_lexer": "ipython3",
   "version": "3.6.5"
  }
 },
 "nbformat": 4,
 "nbformat_minor": 2
}
